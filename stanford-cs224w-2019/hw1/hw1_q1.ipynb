{
 "cells": [
  {
   "cell_type": "code",
   "execution_count": 1,
   "metadata": {},
   "outputs": [],
   "source": [
    "import snap\n",
    "import numpy as np\n",
    "import matplotlib.pyplot as plt\n",
    "import pandas as pd\n",
    "import seaborn as sns"
   ]
  },
  {
   "cell_type": "markdown",
   "metadata": {},
   "source": [
    "### 1.1 Degree Distribution"
   ]
  },
  {
   "cell_type": "code",
   "execution_count": 2,
   "metadata": {},
   "outputs": [],
   "source": [
    "# %%time\n",
    "# Problem 1.1\n",
    "def genErdosRenyi(N=5242, E=14484):\n",
    "    \"\"\"\n",
    "    :param - N: number of nodes\n",
    "    :param - E: number of edges\n",
    "\n",
    "    return type: snap.PUNGraph\n",
    "    return: Erdos-Renyi graph with N nodes and E edges\n",
    "    \"\"\"\n",
    "    ############################################################################\n",
    "    # TODO: Your code here!\n",
    "\n",
    "    G = snap.TUNGraph.New()\n",
    "    for idx in range(N):\n",
    "        G.AddNode(idx)\n",
    "        \n",
    "    while (G.GetEdges() < E):\n",
    "        edges = np.random.choice(range(5242),2,replace=False)\n",
    "        G.AddEdge(int(edges[0]),int(edges[1]))\n",
    "    ############################################################################\n",
    "    return G\n",
    "\n",
    "random_graph = genErdosRenyi()\n",
    "assert random_graph.GetNodes() == 5242\n",
    "# print('edges : ',  G.GetEdges())\n",
    "assert random_graph.GetEdges() == 14484"
   ]
  },
  {
   "cell_type": "code",
   "execution_count": 5,
   "metadata": {},
   "outputs": [
    {
     "name": "stdout",
     "output_type": "stream",
     "text": [
      "num edges:  14484\n"
     ]
    }
   ],
   "source": [
    "# config\n",
    "N = 5242\n",
    "# def add_edge(G, node_id, src, dst):\n",
    "#     G.\n",
    "def genCircle(N=5242):\n",
    "    \"\"\"\n",
    "    :param - N: number of nodes\n",
    "\n",
    "    return type: snap.PUNGraph\n",
    "    return: Circle graph with N nodes and N edges. Imagine the nodes form a\n",
    "        circle and each node is connected to its two direct neighbors.\n",
    "    \"\"\"\n",
    "    ############################################################################\n",
    "    G = snap.TUNGraph.New()\n",
    "    for idx in range(N):\n",
    "        G.AddNode(idx)\n",
    "        \n",
    "    for idx in range(N):\n",
    "        if idx == (N-1):\n",
    "            G.AddEdge(N-1,0)\n",
    "        else:\n",
    "            G.AddEdge(idx,idx+1)\n",
    "    ############################################################################\n",
    "    return G\n",
    "\n",
    "# testing it\n",
    "G = genCircle()\n",
    "assert G.GetNodes() == 5242\n",
    "assert G.GetEdges() == 5242\n",
    "\n",
    "\n",
    "def connectNbrOfNbr(Graph, N=5242):\n",
    "    \"\"\"\n",
    "    :param - Graph: snap.PUNGraph object representing a circle graph on N nodes\n",
    "    :param - N: number of nodes\n",
    "\n",
    "    return type: snap.PUNGraph\n",
    "    return: Graph object with additional N edges added by connecting each node\n",
    "        to the neighbors of its neighbors\n",
    "    \"\"\"\n",
    "    ############################################################################\n",
    "    for idx in range(N):\n",
    "        if idx == (N-1):\n",
    "            Graph.AddEdge(idx, 1)\n",
    "        elif idx == (N-2):\n",
    "            Graph.AddEdge(idx, 0)\n",
    "        else:\n",
    "            Graph.AddEdge(idx, idx+2)\n",
    "\n",
    "    ############################################################################\n",
    "    return Graph\n",
    "\n",
    "G = connectNbrOfNbr(G)\n",
    "assert G.GetNodes() == N\n",
    "assert G.GetEdges() == N * 2\n",
    "\n",
    "def connectRandomNodes(Graph, M=4000):\n",
    "    \"\"\"\n",
    "    :param - Graph: snap.PUNGraph object representing an undirected graph\n",
    "    :param - M: number of edges to be added\n",
    "\n",
    "    return type: snap.PUNGraph\n",
    "    return: Graph object with additional M edges added by connecting M randomly\n",
    "        selected pairs of nodes not already connected.\n",
    "    \"\"\"\n",
    "    ############################################################################\n",
    "    num_edges = Graph.GetEdges()\n",
    "    num_nodes = Graph.GetNodes()\n",
    "    while Graph.GetEdges() < (num_edges + M):\n",
    "        edge = np.random.choice(range(num_nodes),2,replace=False)\n",
    "        Graph.AddEdge(int(edge[0]), int(edge[1]))\n",
    "    ############################################################################\n",
    "    return Graph\n",
    "\n",
    "G = connectRandomNodes(G)\n",
    "print('num edges: ', G.GetEdges() )\n",
    "assert G.GetEdges() == 2*N + 4000"
   ]
  },
  {
   "cell_type": "code",
   "execution_count": 6,
   "metadata": {},
   "outputs": [],
   "source": [
    "def genSmallWorld(N=5242, E=14484):\n",
    "    \"\"\"\n",
    "    :param - N: number of nodes\n",
    "    :param - E: number of edges\n",
    "\n",
    "    return type: snap.PUNGraph\n",
    "    return: Small-World graph with N nodes and E edges\n",
    "    \"\"\"\n",
    "    Graph = genCircle(N)\n",
    "    Graph = connectNbrOfNbr(Graph, N)\n",
    "    Graph = connectRandomNodes(Graph, 4000)\n",
    "    return Graph\n",
    "\n",
    "smallworld_graph = genSmallWorld(N=5242, E=14484)\n",
    "assert smallworld_graph.GetEdges() == 14484\n",
    "assert smallworld_graph.GetNodes() == 5242"
   ]
  },
  {
   "cell_type": "code",
   "execution_count": 63,
   "metadata": {},
   "outputs": [
    {
     "name": "stdout",
     "output_type": "stream",
     "text": [
      "ca-GrQc.txt                 hw1.pdf\n",
      "hw1-bundle.tgz              hw1_q1.ipynb\n",
      "hw1-q1-starter.py           hw1_submission_template.pdf\n",
      "hw1-q2.graph                hw1_submission_template.tex\n"
     ]
    }
   ],
   "source": [
    "# !wget http://snap.stanford.edu/data/ca-GrQc.txt.gz\n",
    "# !gunzip ca-GrQc.txt.gz  \n",
    "!ls"
   ]
  },
  {
   "cell_type": "code",
   "execution_count": 136,
   "metadata": {},
   "outputs": [
    {
     "name": "stdout",
     "output_type": "stream",
     "text": [
      "# Directed graph (each unordered pair of nodes is saved once): CA-GrQc.txt \n",
      "# Collaboration network of Arxiv General Relativity category (there is an edge if authors coauthored at least one paper)\n",
      "# Nodes: 5242 Edges: 28980\n",
      "# FromNodeId\tToNodeId\n",
      "3466\t937\n",
      "3466\t5233\n",
      "3466\t8579\n"
     ]
    }
   ],
   "source": [
    "!head -n 7 ca-GrQc.txt"
   ]
  },
  {
   "cell_type": "markdown",
   "metadata": {},
   "source": []
  },
  {
   "cell_type": "code",
   "execution_count": 7,
   "metadata": {},
   "outputs": [],
   "source": [
    "def loadCollabNet(path):\n",
    "    \"\"\"\n",
    "    :param - path: path to edge list file\n",
    "\n",
    "    return type: snap.PUNGraph\n",
    "    return: Graph loaded from edge list at `path and self edges removed\n",
    "\n",
    "    Do not forget to remove the self edges!\n",
    "    \"\"\"\n",
    "    ############################################################################\n",
    "    df = pd.read_csv('ca-GrQc.txt',skiprows=4,sep='\\t', header=None)\n",
    "    df.columns = ['src','dst']\n",
    "    df['src'] = df['src'].astype(int)\n",
    "    df['dst'] = df['dst'].astype(int)\n",
    "    rw_graph = snap.TUNGraph.New()\n",
    "    for idx, row in enumerate(df.itertuples()):\n",
    "        if not rw_graph.IsNode(row.src):\n",
    "            rw_graph.AddNode(row.src)\n",
    "        if not rw_graph.IsNode(row.dst):\n",
    "            rw_graph.AddNode(row.dst)\n",
    "        \n",
    "        if row.src == row.dst:\n",
    "            continue\n",
    "        rw_graph.AddEdge(row.src,row.dst)\n",
    "\n",
    "    ############################################################################\n",
    "    return rw_graph\n",
    "\n",
    "collab_graph = loadCollabNet('ca-GrQc.txt')\n",
    "\n",
    "assert collab_graph.GetNodes() == 5242\n",
    "assert collab_graph.GetEdges() == 14484"
   ]
  },
  {
   "cell_type": "code",
   "execution_count": 8,
   "metadata": {},
   "outputs": [],
   "source": [
    "def getDataPointsToPlot(Graph):\n",
    "    \"\"\"\n",
    "    :param - Graph: snap.PUNGraph object representing an undirected graph\n",
    "\n",
    "    return values:\n",
    "    X: list of degrees\n",
    "    Y: list of frequencies: Y[i] = fraction of nodes with degree X[i]\n",
    "    \"\"\"\n",
    "    ############################################################################\n",
    "    degs = [node.GetOutDeg() for node in Graph.Nodes()]\n",
    "    df = pd.Series(degs,name='deg').value_counts().reset_index().rename(columns={'index':'deg','deg':'count'})\n",
    "    df['count_ratio'] = df['count']/df['count'].sum()\n",
    "    df = df.sort_values('deg',ascending=True)\n",
    "    \n",
    "    \n",
    "    X, Y = df['deg'],df['count_ratio']\n",
    "\n",
    "    ############################################################################\n",
    "    return X, Y\n"
   ]
  },
  {
   "cell_type": "code",
   "execution_count": 47,
   "metadata": {},
   "outputs": [
    {
     "data": {
      "image/png": "[encoded data removed]",
      "text/plain": [
       "<Figure size 432x288 with 1 Axes>"
      ]
     },
     "metadata": {
      "needs_background": "light"
     },
     "output_type": "display_data"
    }
   ],
   "source": [
    "erdosRenyi = None\n",
    "smallWorld = None\n",
    "collabNet = None\n",
    "\n",
    "def Q1_1():\n",
    "    \"\"\"\n",
    "    Code for HW1 Q1.1\n",
    "    \"\"\"\n",
    "    global erdosRenyi, smallWorld, collabNet\n",
    "    erdosRenyi = genErdosRenyi(5242, 14484)\n",
    "    smallWorld = genSmallWorld(5242, 14484)\n",
    "    collabNet = loadCollabNet(\"ca-GrQc.txt\")\n",
    "\n",
    "    x_erdosRenyi, y_erdosRenyi = getDataPointsToPlot(erdosRenyi)\n",
    "    plt.loglog(x_erdosRenyi, y_erdosRenyi, color = 'y', label = 'Erdos Renyi Network')\n",
    "\n",
    "    x_smallWorld, y_smallWorld = getDataPointsToPlot(smallWorld)\n",
    "    plt.loglog(x_smallWorld, y_smallWorld, linestyle = 'dashed', color = 'r', label = 'Small World Network')\n",
    "\n",
    "    x_collabNet, y_collabNet = getDataPointsToPlot(collabNet)\n",
    "    plt.loglog(x_collabNet, y_collabNet, linestyle = 'dotted', color = 'b', label = 'Collaboration Network')\n",
    "\n",
    "    plt.xlabel('Node Degree (log)')\n",
    "    plt.ylabel('Proportion of Nodes with a Given Degree (log)')\n",
    "    plt.title('Degree Distribution of Erdos Renyi, Small World, and Collaboration Networks')\n",
    "    plt.legend()\n",
    "    plt.show()\n",
    "\n",
    "Q1_1()"
   ]
  },
  {
   "cell_type": "markdown",
   "metadata": {},
   "source": [
    "### 1.2 Clustering Coefficient"
   ]
  },
  {
   "cell_type": "code",
   "execution_count": 50,
   "metadata": {},
   "outputs": [
    {
     "name": "stdout",
     "output_type": "stream",
     "text": [
      "Clustering Coefficient for Erdos Renyi Network: 0.001079\n",
      "Clustering Coefficient for Small World Network: 0.285548\n",
      "Clustering Coefficient for Collaboration Network: 0.529636\n"
     ]
    }
   ],
   "source": [
    "def calcClusteringCoefficientSingleNode(Node, Graph):\n",
    "    \"\"\"\n",
    "    :param - Node: node from snap.PUNGraph object. Graph.Nodes() will give an\n",
    "                   iterable of nodes in a graph\n",
    "    :param - Graph: snap.PUNGraph object representing an undirected graph\n",
    "\n",
    "    return type: float\n",
    "    returns: local clustering coeffient of Node\n",
    "    \"\"\"\n",
    "    ############################################################################\n",
    "    if Node.GetOutDeg() < 2:\n",
    "        return 0\n",
    "    \n",
    "    nbrs = [e for e in Node.GetOutEdges()]\n",
    "\n",
    "    nbr_edge_count = 0\n",
    "    for i in nbrs:\n",
    "        curr_nbr = Graph.GetNI(i)\n",
    "        # loop through other edges and count number of edges\n",
    "        for j in nbrs:\n",
    "            if j >= i:\n",
    "                break\n",
    "            if curr_nbr.IsNbrNId(j):\n",
    "                nbr_edge_count += 1\n",
    "\n",
    "    num_nbrs = len(nbrs)            \n",
    "    max_edge_count = (num_nbrs * (num_nbrs - 1))/2\n",
    "    C = nbr_edge_count/max_edge_count\n",
    "    ############################################################################\n",
    "    return C\n",
    "\n",
    "def calcClusteringCoefficient(Graph):\n",
    "    \"\"\"\n",
    "    :param - Graph: snap.PUNGraph object representing an undirected graph\n",
    "\n",
    "    return type: float\n",
    "    returns: clustering coeffient of Graph\n",
    "    \"\"\"\n",
    "    ############################################################################\n",
    "    # TODO: Your code here! If you filled out calcClusteringCoefficientSingleNode,\n",
    "    #       you'll probably want to call it in a loop here\n",
    "    c_sum = 0\n",
    "    for node in Graph.Nodes():\n",
    "        c_sum += calcClusteringCoefficientSingleNode(node, Graph)\n",
    "        \n",
    "    C = c_sum/Graph.GetNodes()\n",
    "\n",
    "    ############################################################################\n",
    "    return C\n",
    "\n",
    "def Q1_2():\n",
    "    \"\"\"\n",
    "    Code for Q1.2\n",
    "    \"\"\"\n",
    "    C_erdosRenyi = calcClusteringCoefficient(erdosRenyi)\n",
    "    C_smallWorld = calcClusteringCoefficient(smallWorld)\n",
    "    C_collabNet = calcClusteringCoefficient(collabNet)\n",
    "\n",
    "    print('Clustering Coefficient for Erdos Renyi Network: %f' % C_erdosRenyi)\n",
    "    print('Clustering Coefficient for Small World Network: %f' % C_smallWorld)\n",
    "    print('Clustering Coefficient for Collaboration Network: %f' % C_collabNet)\n",
    "    \n",
    "Q1_2()"
   ]
  },
  {
   "cell_type": "code",
   "execution_count": null,
   "metadata": {},
   "outputs": [],
   "source": [
    "print('SNAP Clustering Coefficient for Erdos Renyi Network: %f' % C_erdosRenyi)\n",
    "print('Clustering Coefficient for Small World Network: %f' % C_smallWorld)\n",
    "print('Clustering Coefficient for Collaboration Network: %f' % C_collabNet)"
   ]
  }
 ],
 "metadata": {
  "kernelspec": {
   "display_name": "Python 3",
   "language": "python",
   "name": "python3"
  },
  "language_info": {
   "codemirror_mode": {
    "name": "ipython",
    "version": 3
   },
   "file_extension": ".py",
   "mimetype": "text/x-python",
   "name": "python",
   "nbconvert_exporter": "python",
   "pygments_lexer": "ipython3",
   "version": "3.7.6"
  }
 },
 "nbformat": 4,
 "nbformat_minor": 4
}
