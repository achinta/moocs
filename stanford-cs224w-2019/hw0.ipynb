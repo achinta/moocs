{
 "cells": [
  {
   "cell_type": "code",
   "execution_count": 13,
   "metadata": {},
   "outputs": [],
   "source": [
    "from pathlib import Path\n",
    "import snap\n",
    "import pandas as pd\n",
    "\n",
    "\n",
    "import numpy as np\n",
    "import scipy\n",
    "from matplotlib import pyplot as plt\n",
    "import seaborn as sns\n",
    "import math"
   ]
  },
  {
   "cell_type": "code",
   "execution_count": 6,
   "metadata": {},
   "outputs": [],
   "source": [
    "data_file = Path.home()/'data/cs224w/wiki-Vote.txt'"
   ]
  },
  {
   "cell_type": "markdown",
   "metadata": {},
   "source": [
    "## 1 Analyzing the Wikipedia voters network [27 points]\n",
    "### GSmall"
   ]
  },
  {
   "cell_type": "code",
   "execution_count": 7,
   "metadata": {},
   "outputs": [
    {
     "name": "stdout",
     "output_type": "stream",
     "text": [
      "1. num of nodes: 3\n",
      "2. num self loops: 1\n",
      "3. num directed edges - 3\n",
      "4. num undir edges: 2.0\n",
      "5. num reciprocated edges: 1.0\n",
      "6. The number of nodes of zero out-degree - 1\n",
      "7. The number of nodes of zero in-degree - 0\n",
      "8. The number of nodes with more than 10 outgoing edges - 0\n",
      "9. The number of nodes with fewer than 10 incoming edges - 3\n"
     ]
    }
   ],
   "source": [
    "G = snap.TNGraph.New()\n",
    "G.AddNode(1)\n",
    "G.AddNode(2)\n",
    "G.AddNode(3)\n",
    "\n",
    "G.AddEdge(1,2)\n",
    "G.AddEdge(2,1)\n",
    "G.AddEdge(1,3)\n",
    "G.AddEdge(1,1)\n",
    "\n",
    "print(f'1. num of nodes: {G.GetNodes()}')\n",
    "\n",
    "# self loops\n",
    "num_self_loops = 0\n",
    "for node in G.Nodes():\n",
    "    if G.IsEdge(node.GetId(),node.GetId()):\n",
    "        num_self_loops += 1\n",
    "print(f'2. num self loops: {num_self_loops}')\n",
    "\n",
    "# number of directed edges\n",
    "num_dir_edges = 0\n",
    "for edge in G.Edges():\n",
    "    if edge.GetSrcNId() != edge.GetDstNId():\n",
    "        num_dir_edges += 1\n",
    "print(f'3. num directed edges - {num_dir_edges}')\n",
    "\n",
    "# number of undirected edges\n",
    "num_undir_edges = 0\n",
    "num_reciprocated_edges = 0\n",
    "for edge in G.Edges():\n",
    "    if edge.GetSrcNId() == edge.GetDstNId():\n",
    "        continue\n",
    "    num_undir_edges += 1\n",
    "        \n",
    "    if G.IsEdge(edge.GetDstNId(),edge.GetSrcNId()):\n",
    "        num_reciprocated_edges += 1\n",
    "\n",
    "# reduce the repeated edges\n",
    "num_undir_edges -= num_reciprocated_edges/2\n",
    "print(f'4. num undir edges: {num_undir_edges}')\n",
    "print(f'5. num reciprocated edges: {num_reciprocated_edges/2}')\n",
    "\n",
    "# The number of nodes of zero out-degree.\n",
    "num_out_deg_zero = 0\n",
    "num_in_deg_zero = 0\n",
    "num_out_deg_gt_ten = 0\n",
    "num_in_deg_le_ten = 0\n",
    "for node in G.Nodes():\n",
    "    if node.GetOutDeg() == 0:\n",
    "        num_out_deg_zero += 1\n",
    "        \n",
    "    if node.GetInDeg() == 0:\n",
    "        num_in_deg_zero += 1\n",
    "        \n",
    "    if node.GetOutDeg() > 10:\n",
    "        num_out_deg_gt_ten += 1\n",
    "        \n",
    "    if node.GetInDeg() < 10:\n",
    "        num_in_deg_le_ten += 1\n",
    "print(f'6. The number of nodes of zero out-degree - {num_out_deg_zero}')\n",
    "print(f'7. The number of nodes of zero in-degree - {num_in_deg_zero}')\n",
    "print(f'8. The number of nodes with more than 10 outgoing edges - {num_out_deg_gt_ten}')\n",
    "print(f'9. The number of nodes with fewer than 10 incoming edges - {num_in_deg_le_ten}')"
   ]
  },
  {
   "cell_type": "markdown",
   "metadata": {},
   "source": [
    "### Wiki Vote"
   ]
  },
  {
   "cell_type": "code",
   "execution_count": 8,
   "metadata": {},
   "outputs": [
    {
     "name": "stdout",
     "output_type": "stream",
     "text": [
      "1. num of nodes: 7115\n",
      "2. num self loops: 0\n",
      "3. num directed edges - 103689\n",
      "4. num undir edges: 100762.0\n",
      "5. num reciprocated edges: 2927.0\n",
      "6. The number of nodes of zero out-degree - 1005\n",
      "7. The number of nodes of zero in-degree - 4734\n",
      "8. The number of nodes with more than 10 outgoing edges - 1612\n",
      "9. The number of nodes with fewer than 10 incoming edges - 5165\n"
     ]
    }
   ],
   "source": [
    "# read data\n",
    "df = pd.read_csv(data_file, sep='\\t', skiprows=4, header=None)\n",
    "df.columns = ['FromNodeId', 'ToNodeId']\n",
    "\n",
    "# create graph\n",
    "G = snap.TNGraph.New()\n",
    "for r in df.itertuples():\n",
    "    if not G.IsNode(r.FromNodeId):\n",
    "        G.AddNode(r.FromNodeId)\n",
    "    if not G.IsNode(r.ToNodeId):\n",
    "        G.AddNode(r.ToNodeId)\n",
    "        \n",
    "    G.AddEdge(r.FromNodeId,r.ToNodeId)\n",
    "\n",
    "print(f'1. num of nodes: {G.GetNodes()}')\n",
    "\n",
    "# self loops\n",
    "num_self_loops = 0\n",
    "for node in G.Nodes():\n",
    "    if G.IsEdge(node.GetId(),node.GetId()):\n",
    "        num_self_loops += 1\n",
    "print(f'2. num self loops: {num_self_loops}')\n",
    "\n",
    "# number of directed edges\n",
    "num_dir_edges = 0\n",
    "for edge in G.Edges():\n",
    "    if edge.GetSrcNId() != edge.GetDstNId():\n",
    "        num_dir_edges += 1\n",
    "print(f'3. num directed edges - {num_dir_edges}')\n",
    "\n",
    "# number of undirected edges\n",
    "num_undir_edges = 0\n",
    "num_reciprocated_edges = 0\n",
    "for edge in G.Edges():\n",
    "    if edge.GetSrcNId() == edge.GetDstNId():\n",
    "        continue\n",
    "    num_undir_edges += 1\n",
    "        \n",
    "    if G.IsEdge(edge.GetDstNId(),edge.GetSrcNId()):\n",
    "        num_reciprocated_edges += 1\n",
    "\n",
    "# reduce the repeated edges\n",
    "num_undir_edges -= num_reciprocated_edges/2\n",
    "print(f'4. num undir edges: {num_undir_edges}')\n",
    "print(f'5. num reciprocated edges: {num_reciprocated_edges/2}')\n",
    "\n",
    "# The number of nodes of zero out-degree.\n",
    "num_out_deg_zero = 0\n",
    "num_in_deg_zero = 0\n",
    "num_out_deg_gt_ten = 0\n",
    "num_in_deg_le_ten = 0\n",
    "for node in G.Nodes():\n",
    "    if node.GetOutDeg() == 0:\n",
    "        num_out_deg_zero += 1\n",
    "        \n",
    "    if node.GetInDeg() == 0:\n",
    "        num_in_deg_zero += 1\n",
    "        \n",
    "    if node.GetOutDeg() > 10:\n",
    "        num_out_deg_gt_ten += 1\n",
    "        \n",
    "    if node.GetInDeg() < 10:\n",
    "        num_in_deg_le_ten += 1\n",
    "print(f'6. The number of nodes of zero out-degree - {num_out_deg_zero}')\n",
    "print(f'7. The number of nodes of zero in-degree - {num_in_deg_zero}')\n",
    "print(f'8. The number of nodes with more than 10 outgoing edges - {num_out_deg_gt_ten}')\n",
    "print(f'9. The number of nodes with fewer than 10 incoming edges - {num_in_deg_le_ten}')"
   ]
  },
  {
   "cell_type": "markdown",
   "metadata": {},
   "source": [
    "## Further Analyzing the Wikipedia voters network [33 points]"
   ]
  },
  {
   "cell_type": "code",
   "execution_count": 15,
   "metadata": {},
   "outputs": [],
   "source": [
    "degrees = [node.GetOutDeg() for node in G.Nodes()]"
   ]
  },
  {
   "cell_type": "code",
   "execution_count": 30,
   "metadata": {},
   "outputs": [
    {
     "name": "stdout",
     "output_type": "stream",
     "text": [
      "(237, 2)\n"
     ]
    },
    {
     "data": {
      "text/html": [
       "<div>\n",
       "<style scoped>\n",
       "    .dataframe tbody tr th:only-of-type {\n",
       "        vertical-align: middle;\n",
       "    }\n",
       "\n",
       "    .dataframe tbody tr th {\n",
       "        vertical-align: top;\n",
       "    }\n",
       "\n",
       "    .dataframe thead th {\n",
       "        text-align: right;\n",
       "    }\n",
       "</style>\n",
       "<table border=\"1\" class=\"dataframe\">\n",
       "  <thead>\n",
       "    <tr style=\"text-align: right;\">\n",
       "      <th></th>\n",
       "      <th>deg</th>\n",
       "      <th>count</th>\n",
       "    </tr>\n",
       "  </thead>\n",
       "  <tbody>\n",
       "    <tr>\n",
       "      <th>0</th>\n",
       "      <td>1</td>\n",
       "      <td>2382</td>\n",
       "    </tr>\n",
       "    <tr>\n",
       "      <th>2</th>\n",
       "      <td>2</td>\n",
       "      <td>704</td>\n",
       "    </tr>\n",
       "    <tr>\n",
       "      <th>3</th>\n",
       "      <td>3</td>\n",
       "      <td>401</td>\n",
       "    </tr>\n",
       "    <tr>\n",
       "      <th>4</th>\n",
       "      <td>4</td>\n",
       "      <td>279</td>\n",
       "    </tr>\n",
       "    <tr>\n",
       "      <th>5</th>\n",
       "      <td>5</td>\n",
       "      <td>162</td>\n",
       "    </tr>\n",
       "  </tbody>\n",
       "</table>\n",
       "</div>"
      ],
      "text/plain": [
       "   deg  count\n",
       "0    1   2382\n",
       "2    2    704\n",
       "3    3    401\n",
       "4    4    279\n",
       "5    5    162"
      ]
     },
     "execution_count": 30,
     "metadata": {},
     "output_type": "execute_result"
    }
   ],
   "source": [
    "df = pd.Series(degrees,name='deg').value_counts().reset_index().rename(columns={'index':'deg','deg':'count'})\n",
    "df = df[df.deg > 0]\n",
    "print(df.shape)\n",
    "df.head()"
   ]
  },
  {
   "cell_type": "code",
   "execution_count": 32,
   "metadata": {},
   "outputs": [],
   "source": [
    "df['deg_log'] = np.log10(df['deg'])\n",
    "df['count_log'] = np.log10(df['count'])"
   ]
  },
  {
   "cell_type": "code",
   "execution_count": 40,
   "metadata": {},
   "outputs": [
    {
     "data": {
      "text/plain": [
       "Text(6, 0, '0.8450980400142568')"
      ]
     },
     "execution_count": 40,
     "metadata": {},
     "output_type": "execute_result"
    }
   ],
   "source": [
    "ax.get_xticklabels()[6]"
   ]
  },
  {
   "cell_type": "code",
   "execution_count": 38,
   "metadata": {},
   "outputs": [
    {
     "data": {
      "image/png": "[encoded data removed]",
      "text/plain": [
       "<Figure size 432x288 with 1 Axes>"
      ]
     },
     "metadata": {
      "needs_background": "light"
     },
     "output_type": "display_data"
    }
   ],
   "source": [
    "ax = sns.barplot(x='deg_log',y='count_log',data=df)\n",
    "o = ax.set_xticklabels(ax.get_xticklabels(), rotation=90)"
   ]
  },
  {
   "cell_type": "code",
   "execution_count": 44,
   "metadata": {},
   "outputs": [
    {
     "data": {
      "text/plain": [
       "array([-1.28106471,  3.1324547 ])"
      ]
     },
     "execution_count": 44,
     "metadata": {},
     "output_type": "execute_result"
    }
   ],
   "source": [
    "p = np.polyfit(df['deg_log'],df['count_log'],deg=1)\n",
    "p"
   ]
  },
  {
   "cell_type": "code",
   "execution_count": 45,
   "metadata": {},
   "outputs": [],
   "source": [
    "a = p[0]\n",
    "b = 1"
   ]
  },
  {
   "cell_type": "markdown",
   "metadata": {},
   "source": [
    "## Finding Experts on the Java Programming Language on StackOverflow [40 points]"
   ]
  },
  {
   "cell_type": "code",
   "execution_count": 50,
   "metadata": {},
   "outputs": [
    {
     "name": "stdout",
     "output_type": "stream",
     "text": [
      "78\t86\n",
      "58\t35\n",
      "122\t122\n"
     ]
    }
   ],
   "source": [
    "!head -n 3 stackoverflow-Java.txt"
   ]
  },
  {
   "cell_type": "code",
   "execution_count": 62,
   "metadata": {},
   "outputs": [
    {
     "name": "stdout",
     "output_type": "stream",
     "text": [
      "(358867, 2)\n"
     ]
    },
    {
     "data": {
      "text/html": [
       "<div>\n",
       "<style scoped>\n",
       "    .dataframe tbody tr th:only-of-type {\n",
       "        vertical-align: middle;\n",
       "    }\n",
       "\n",
       "    .dataframe tbody tr th {\n",
       "        vertical-align: top;\n",
       "    }\n",
       "\n",
       "    .dataframe thead th {\n",
       "        text-align: right;\n",
       "    }\n",
       "</style>\n",
       "<table border=\"1\" class=\"dataframe\">\n",
       "  <thead>\n",
       "    <tr style=\"text-align: right;\">\n",
       "      <th></th>\n",
       "      <th>endorser</th>\n",
       "      <th>answerer</th>\n",
       "    </tr>\n",
       "  </thead>\n",
       "  <tbody>\n",
       "    <tr>\n",
       "      <th>0</th>\n",
       "      <td>78</td>\n",
       "      <td>86</td>\n",
       "    </tr>\n",
       "    <tr>\n",
       "      <th>1</th>\n",
       "      <td>58</td>\n",
       "      <td>35</td>\n",
       "    </tr>\n",
       "    <tr>\n",
       "      <th>2</th>\n",
       "      <td>122</td>\n",
       "      <td>122</td>\n",
       "    </tr>\n",
       "  </tbody>\n",
       "</table>\n",
       "</div>"
      ],
      "text/plain": [
       "   endorser  answerer\n",
       "0        78        86\n",
       "1        58        35\n",
       "2       122       122"
      ]
     },
     "execution_count": 62,
     "metadata": {},
     "output_type": "execute_result"
    }
   ],
   "source": [
    "df = pd.read_csv('stackoverflow-Java.txt',sep='\\t',header=None)\n",
    "df.columns = ['endorser','answerer']\n",
    "print(df.shape)\n",
    "df.head(3)"
   ]
  },
  {
   "cell_type": "code",
   "execution_count": 63,
   "metadata": {},
   "outputs": [],
   "source": [
    "# create graph\n",
    "G = snap.TNGraph.New()\n",
    "for r in df.itertuples():\n",
    "    if not G.IsNode(r.endorser):\n",
    "        G.AddNode(r.endorser)\n",
    "    if not G.IsNode(r.answerer):\n",
    "        G.AddNode(r.answerer)\n",
    "        \n",
    "    G.AddEdge(r.endorser,r.answerer)"
   ]
  },
  {
   "cell_type": "code",
   "execution_count": 76,
   "metadata": {},
   "outputs": [
    {
     "name": "stdout",
     "output_type": "stream",
     "text": [
      "no of weakly connected components -  10143\n"
     ]
    }
   ],
   "source": [
    "components = snap.TCnComV()\n",
    "snap.GetWccs(G, components)\n",
    "count = 0\n",
    "print('no of weakly connected components - ', len(components))"
   ]
  },
  {
   "cell_type": "code",
   "execution_count": 80,
   "metadata": {},
   "outputs": [
    {
     "name": "stdout",
     "output_type": "stream",
     "text": [
      "No of nodes in largest wcc 131188\n",
      "No of edges in largest wcc 322486\n"
     ]
    }
   ],
   "source": [
    "largest_wcc = snap.GetMxWcc(G)\n",
    "print(f'No of nodes in largest wcc {largest_wcc.GetNodes()}')\n",
    "print(f'No of edges in largest wcc {largest_wcc.GetEdges()}')"
   ]
  },
  {
   "cell_type": "code",
   "execution_count": 86,
   "metadata": {},
   "outputs": [
    {
     "name": "stdout",
     "output_type": "stream",
     "text": [
      "78 2.4082266411394174e-06\n",
      "86 1.0954090787330643e-05\n",
      "58 2.7410854878087346e-06\n"
     ]
    }
   ],
   "source": [
    "PRankH = snap.TIntFltH()\n",
    "snap.GetPageRank(G, PRankH)\n",
    "for idx, item in enumerate(PRankH):\n",
    "    if idx > 2:\n",
    "        break\n",
    "    print(item, PRankH[item])"
   ]
  },
  {
   "cell_type": "code",
   "execution_count": 92,
   "metadata": {},
   "outputs": [
    {
     "name": "stdout",
     "output_type": "stream",
     "text": [
      "IDs of the top 3 most central nodes in the network by PagePank scores:  [992484, 135152, 22656]\n"
     ]
    }
   ],
   "source": [
    "slist = sorted(PRankH, key=lambda key:PRankH[key], reverse=True)\n",
    "print('3. IDs of the top 3 most central nodes in the network by PagePank scores: ', slist[:3])"
   ]
  },
  {
   "cell_type": "code",
   "execution_count": 94,
   "metadata": {},
   "outputs": [
    {
     "name": "stdout",
     "output_type": "stream",
     "text": [
      "4. IDs of the top 3 hubs and top 3 authorities in the network by HITS scores:  [22656, 157882, 571407]\n"
     ]
    }
   ],
   "source": [
    "NIdHubH = snap.TIntFltH()\n",
    "NIdAuthH = snap.TIntFltH()\n",
    "snap.GetHits(G, NIdHubH, NIdAuthH)\n",
    "\n",
    "slist = sorted(NIdAuthH, key = lambda key: NIdAuthH[key], reverse = True)\n",
    "print('4. IDs of the top 3 hubs and top 3 authorities in the network by HITS scores: ', slist[:3])"
   ]
  },
  {
   "cell_type": "code",
   "execution_count": null,
   "metadata": {},
   "outputs": [],
   "source": []
  }
 ],
 "metadata": {
  "kernelspec": {
   "display_name": "Python 3",
   "language": "python",
   "name": "python3"
  },
  "language_info": {
   "codemirror_mode": {
    "name": "ipython",
    "version": 3
   },
   "file_extension": ".py",
   "mimetype": "text/x-python",
   "name": "python",
   "nbconvert_exporter": "python",
   "pygments_lexer": "ipython3",
   "version": "3.7.6"
  }
 },
 "nbformat": 4,
 "nbformat_minor": 4
}
